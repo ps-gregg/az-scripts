{
    "metadata": {
        "kernelspec": {
            "name": "powershell",
            "display_name": "PowerShell",
            "language": "powershell"
        },
        "language_info": {
            "name": "powershell",
            "codemirror_mode": "shell",
            "mimetype": "text/x-sh",
            "file_extension": ".ps1"
        }
    },
    "nbformat_minor": 2,
    "nbformat": 4,
    "cells": [
        {
            "cell_type": "markdown",
            "source": [
                "**Build a** **keyvault and** **automation account**"
            ],
            "metadata": {
                "azdata_cell_guid": "a9183a63-dbcd-452b-8580-b393f91a3154"
            }
        },
        {
            "cell_type": "code",
            "source": [
                "$aaParameters = @{\r\n",
                "    automationAccountName = 'eastus-automation'\r\n",
                "    SubscriptionId        = 'xxxxxxxx-xxxx-xxxx-xxxx-xxxxxxxxxxxx'\r\n",
                "    TenantId              = 'xxxxxxxx-xxxx-xxxx-xxxx-xxxxxxxxxxxx'\r\n",
                "    Location              = 'eastus'\r\n",
                "    resourceGroupName     = 'eastus-rg'\r\n",
                "    keyVaultName          = 'eastus-kv'\r\n",
                "    ObjectIDWorker        = $null\r\n",
                "}\r\n",
                "If ($null -eq (Get-AzAutomationAccount -Name $aaParameters.automationAccountName -ResourceGroupName $aaParameters.resourceGroupName -ErrorAction SilentlyContinue)) {\r\n",
                "    $aaParameters.ObjectIDWorker = (Get-AzureADUser -ObjectId (Get-AzContext).Account.Id).ObjectId\r\n",
                "    .\\new-AzAutomationAccount @aaParameters\r\n",
                "}"
            ],
            "metadata": {
                "azdata_cell_guid": "5a021328-3a67-4121-ad56-323bb9684a2f"
            },
            "outputs": [],
            "execution_count": null
        },
        {
            "cell_type": "markdown",
            "source": [
                "**Add module to Automation Account**"
            ],
            "metadata": {
                "azdata_cell_guid": "db5a9a56-2529-4df6-8ba6-de977883181b"
            }
        },
        {
            "cell_type": "code",
            "source": [
                "$automationAccountName = 'eastus-automation'\r\n",
                "$resourceGroupName = 'eastus-rg'\r\n",
                "$ModuleName = 'StorageDsc'\r\n",
                "$ModuleContentUrl = \"https://www.powershellgallery.com/api/v2/package/$ModuleName\"\r\n",
                "do {\r\n",
                "    $ModuleContentUrl = (Invoke-WebRequest -Uri $ModuleContentUrl -MaximumRedirection 0 -UseBasicParsing -ErrorAction Ignore).Headers.Location\r\n",
                "} while ($ModuleContentUrl -notlike \"*.nupkg\")\r\n",
                "New-AzAutomationModule -ResourceGroupName $resourceGroupName -AutomationAccountName $AutomationAccountName -Name $ModuleName -ContentLink $ModuleContentUrl"
            ],
            "metadata": {
                "azdata_cell_guid": "b06b817e-bdaa-496f-9574-96cc7ffdb9c1",
                "tags": []
            },
            "outputs": [],
            "execution_count": null
        },
        {
            "cell_type": "markdown",
            "source": [
                "**Remove Automation Account**"
            ],
            "metadata": {
                "azdata_cell_guid": "9f7fbdb9-588c-4ab8-8bc5-bc10ee563df2"
            }
        },
        {
            "cell_type": "code",
            "source": [
                "$automationAccountName = 'eastus-automation'\r\n",
                "$resourceGroupName = 'eastus-rg'\r\n",
                "Remove-AzAutomationAccount -Name $automationAccountName -ResourceGroupName $resourceGroupName -Force"
            ],
            "metadata": {
                "azdata_cell_guid": "af76d575-d13b-4a6a-80f1-bdc1389f984e"
            },
            "outputs": [],
            "execution_count": null
        },
        {
            "cell_type": "markdown",
            "source": [
                "**Remove Service Principal**"
            ],
            "metadata": {
                "azdata_cell_guid": "be297d48-4562-4579-bc29-f57a04467373"
            }
        },
        {
            "cell_type": "code",
            "source": [
                "$automationAccountName = 'eastus-automation'\r\n",
                "$ServicePrincipal = Get-AzADServicePrincipal -SearchString $automationAccountName\r\n",
                "Get-AzRoleAssignment -ObjectId $ServicePrincipal.Id | % { $_ | Remove-AzRoleAssignment }\r\n",
                "Remove-AzADServicePrincipal -ObjectId $ServicePrincipal.Id -Force\r\n",
                ""
            ],
            "metadata": {
                "azdata_cell_guid": "8e4fc12e-a115-4cc3-8025-851f9c0628ac"
            },
            "outputs": [],
            "execution_count": null
        }
    ]
}