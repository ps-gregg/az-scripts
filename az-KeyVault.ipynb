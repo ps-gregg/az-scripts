{
    "metadata": {
        "kernelspec": {
            "name": "powershell",
            "display_name": "PowerShell",
            "language": "powershell"
        },
        "language_info": {
            "name": "powershell",
            "codemirror_mode": "shell",
            "mimetype": "text/x-sh",
            "file_extension": ".ps1"
        }
    },
    "nbformat_minor": 2,
    "nbformat": 4,
    "cells": [
        {
            "cell_type": "markdown",
            "source": [
                "How to permanently delete an Azure KeyVault"
            ],
            "metadata": {
                "azdata_cell_guid": "6d9af820-42d2-4ce1-bf5e-db6afe907089"
            }
        },
        {
            "cell_type": "code",
            "source": [
                " $resourceGroupName = 'eastus-rg'\r\n",
                " $Location = 'eastus'\r\n",
                " $keyVaultName = 'eastus-kv'\r\n",
                " Remove-AzKeyVault -VaultName $keyVaultName -Location $Location -ResourceGroupName $resourceGroupName -Force\r\n",
                " Remove-AzKeyVault -VaultName $keyVaultName -Location $Location -InRemovedState -Force\r\n",
                ""
            ],
            "metadata": {
                "azdata_cell_guid": "0729cf54-9fcc-4119-adcc-362693073cea"
            },
            "outputs": [],
            "execution_count": null
        }
    ]
}