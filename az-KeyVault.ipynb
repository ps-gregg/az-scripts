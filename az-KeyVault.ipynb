{
    "metadata": {
        "kernelspec": {
            "name": "powershell",
            "display_name": "PowerShell",
            "language": "powershell"
        },
        "language_info": {
            "name": "powershell",
            "codemirror_mode": "shell",
            "mimetype": "text/x-sh",
            "file_extension": ".ps1"
        }
    },
    "nbformat_minor": 2,
    "nbformat": 4,
    "cells": [
        {
            "cell_type": "markdown",
            "source": [
                "**Check for all KeyVaults in a removed state**"
            ],
            "metadata": {
                "azdata_cell_guid": "4e92c085-d575-4afd-b3cb-88ecf89a3483"
            }
        },
        {
            "cell_type": "code",
            "source": [
                "$Location = 'eastus'\r\n",
                "Get-AzKeyVault -Location $Location -InRemovedState"
            ],
            "metadata": {
                "azdata_cell_guid": "2035d600-9406-476f-bba7-8974dd0148de"
            },
            "outputs": [],
            "execution_count": null
        },
        {
            "cell_type": "markdown",
            "source": [
                "**Recover a KeyVault from a removed state**"
            ],
            "metadata": {
                "azdata_cell_guid": "2d56d0aa-4b97-4fa3-a485-22263e2cd058"
            }
        },
        {
            "cell_type": "code",
            "source": [
                "$resourceGroupName = 'eastus-rg'\r\n",
                "$Location = 'eastus'\r\n",
                "$keyVaultName = 'eastus-kv'\r\n",
                "Undo-AzKeyVaultRemoval -VaultName $keyVaultName -ResourceGroupName $resourceGroupName -Location $Location"
            ],
            "metadata": {
                "azdata_cell_guid": "888a915e-c17f-4800-ae8b-e5e9bd97006b"
            },
            "outputs": [],
            "execution_count": null
        },
        {
            "cell_type": "markdown",
            "source": [
                "**How to permanently delete an Azure KeyVault**"
            ],
            "metadata": {
                "azdata_cell_guid": "6d9af820-42d2-4ce1-bf5e-db6afe907089"
            }
        },
        {
            "cell_type": "code",
            "source": [
                "$resourceGroupName = 'eastus-rg'\r\n",
                "$Location = 'eastus'\r\n",
                "$keyVaultName = 'eastus-kv'\r\n",
                "Remove-AzKeyVault -VaultName $keyVaultName -Location $Location -ResourceGroupName $resourceGroupName -Force\r\n",
                "Remove-AzKeyVault -VaultName $keyVaultName -Location $Location -InRemovedState -Force\r\n",
                ""
            ],
            "metadata": {
                "azdata_cell_guid": "0729cf54-9fcc-4119-adcc-362693073cea"
            },
            "outputs": [],
            "execution_count": null
        }
    ]
}